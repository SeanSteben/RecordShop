{
 "cells": [
  {
   "cell_type": "code",
   "execution_count": 7,
   "metadata": {},
   "outputs": [],
   "source": [
    "import faker\n",
    "import json\n",
    "import random\n",
    "faker = faker.Faker()"
   ]
  },
  {
   "cell_type": "code",
   "execution_count": null,
   "metadata": {},
   "outputs": [],
   "source": []
  },
  {
   "cell_type": "code",
   "execution_count": 12,
   "metadata": {},
   "outputs": [
    {
     "ename": "AttributeError",
     "evalue": "'Generator' object has no attribute 'Music'",
     "output_type": "error",
     "traceback": [
      "\u001b[1;31m---------------------------------------------------------------------------\u001b[0m",
      "\u001b[1;31mAttributeError\u001b[0m                            Traceback (most recent call last)",
      "Cell \u001b[1;32mIn[12], line 10\u001b[0m\n\u001b[0;32m      2\u001b[0m startingId \u001b[38;5;241m=\u001b[39m \u001b[38;5;241m100\u001b[39m\n\u001b[0;32m      3\u001b[0m \u001b[38;5;28;01mfor\u001b[39;00m i \u001b[38;5;129;01min\u001b[39;00m \u001b[38;5;28mrange\u001b[39m(\u001b[38;5;241m10\u001b[39m):\n\u001b[0;32m      4\u001b[0m \n\u001b[0;32m      5\u001b[0m     \n\u001b[0;32m      6\u001b[0m     \u001b[38;5;66;03m#img_number = random.randint(1, 75)\u001b[39;00m\n\u001b[0;32m      7\u001b[0m     random_record \u001b[38;5;241m=\u001b[39m {\n\u001b[0;32m      8\u001b[0m         \u001b[38;5;124m'\u001b[39m\u001b[38;5;124mid\u001b[39m\u001b[38;5;124m'\u001b[39m: startingId \u001b[38;5;241m+\u001b[39m i,\n\u001b[0;32m      9\u001b[0m \n\u001b[1;32m---> 10\u001b[0m         \u001b[38;5;124m'\u001b[39m\u001b[38;5;124mband\u001b[39m\u001b[38;5;124m'\u001b[39m: \u001b[43mfaker\u001b[49m\u001b[38;5;241;43m.\u001b[39;49m\u001b[43mMusic\u001b[49m\u001b[38;5;241m.\u001b[39mband()\n\u001b[0;32m     11\u001b[0m         \u001b[38;5;66;03m#'first': faker.first_name_male() if is_male else faker.first_name_female(),\u001b[39;00m\n\u001b[0;32m     12\u001b[0m         \n\u001b[0;32m     13\u001b[0m         \u001b[38;5;66;03m# 'email': faker.email(),\u001b[39;00m\n\u001b[0;32m     14\u001b[0m         \u001b[38;5;66;03m# 'age': datetime.now().year - faker.date_of_birth(minimum_age=20, maximum_age=50).year,\u001b[39;00m\n\u001b[0;32m     15\u001b[0m         \u001b[38;5;66;03m# 'imageUrl': f'https://randomuser.me/api/portraits/{\"men\" if is_male else \"women\"}/{img_number}.jpg'\u001b[39;00m\n\u001b[0;32m     16\u001b[0m     }\n\u001b[0;32m     17\u001b[0m     random_records\u001b[38;5;241m.\u001b[39mappend(random_record)\n\u001b[0;32m     18\u001b[0m     display (random_records)\n",
      "File \u001b[1;32m~\\AppData\\Roaming\\Python\\Python312\\site-packages\\faker\\proxy.py:130\u001b[0m, in \u001b[0;36mFaker.__getattr__\u001b[1;34m(self, attr)\u001b[0m\n\u001b[0;32m    123\u001b[0m \u001b[38;5;250m\u001b[39m\u001b[38;5;124;03m\"\"\"\u001b[39;00m\n\u001b[0;32m    124\u001b[0m \u001b[38;5;124;03mHandles cache access and proxying behavior\u001b[39;00m\n\u001b[0;32m    125\u001b[0m \n\u001b[0;32m    126\u001b[0m \u001b[38;5;124;03m:param attr: attribute name\u001b[39;00m\n\u001b[0;32m    127\u001b[0m \u001b[38;5;124;03m:return: the appropriate attribute\u001b[39;00m\n\u001b[0;32m    128\u001b[0m \u001b[38;5;124;03m\"\"\"\u001b[39;00m\n\u001b[0;32m    129\u001b[0m \u001b[38;5;28;01mif\u001b[39;00m \u001b[38;5;28mlen\u001b[39m(\u001b[38;5;28mself\u001b[39m\u001b[38;5;241m.\u001b[39m_factories) \u001b[38;5;241m==\u001b[39m \u001b[38;5;241m1\u001b[39m:\n\u001b[1;32m--> 130\u001b[0m     \u001b[38;5;28;01mreturn\u001b[39;00m \u001b[38;5;28;43mgetattr\u001b[39;49m\u001b[43m(\u001b[49m\u001b[38;5;28;43mself\u001b[39;49m\u001b[38;5;241;43m.\u001b[39;49m\u001b[43m_factories\u001b[49m\u001b[43m[\u001b[49m\u001b[38;5;241;43m0\u001b[39;49m\u001b[43m]\u001b[49m\u001b[43m,\u001b[49m\u001b[43m \u001b[49m\u001b[43mattr\u001b[49m\u001b[43m)\u001b[49m\n\u001b[0;32m    131\u001b[0m \u001b[38;5;28;01melif\u001b[39;00m attr \u001b[38;5;129;01min\u001b[39;00m \u001b[38;5;28mself\u001b[39m\u001b[38;5;241m.\u001b[39mgenerator_attrs:\n\u001b[0;32m    132\u001b[0m     msg \u001b[38;5;241m=\u001b[39m \u001b[38;5;124m\"\u001b[39m\u001b[38;5;124mProxying calls to `\u001b[39m\u001b[38;5;132;01m%s\u001b[39;00m\u001b[38;5;124m` is not implemented in multiple locale mode.\u001b[39m\u001b[38;5;124m\"\u001b[39m \u001b[38;5;241m%\u001b[39m attr\n",
      "\u001b[1;31mAttributeError\u001b[0m: 'Generator' object has no attribute 'Music'"
     ]
    }
   ],
   "source": [
    "random_records = []\n",
    "startingId = 100\n",
    "for i in range(10):\n",
    "\n",
    "    \n",
    "    #img_number = random.randint(1, 75)\n",
    "    random_record = {\n",
    "        'id': startingId + i,\n",
    "\n",
    "        'band': faker.Music.band()\n",
    "        #'first': faker.first_name_male() if is_male else faker.first_name_female(),\n",
    "        \n",
    "        # 'email': faker.email(),\n",
    "        # 'age': datetime.now().year - faker.date_of_birth(minimum_age=20, maximum_age=50).year,\n",
    "        # 'imageUrl': f'https://randomuser.me/api/portraits/{\"men\" if is_male else \"women\"}/{img_number}.jpg'\n",
    "    }\n",
    "    random_records.append(random_record)\n",
    "    display (random_records)"
   ]
  },
  {
   "cell_type": "code",
   "execution_count": null,
   "metadata": {},
   "outputs": [],
   "source": []
  }
 ],
 "metadata": {
  "kernelspec": {
   "display_name": "Python 3",
   "language": "python",
   "name": "python3"
  },
  "language_info": {
   "codemirror_mode": {
    "name": "ipython",
    "version": 3
   },
   "file_extension": ".py",
   "mimetype": "text/x-python",
   "name": "python",
   "nbconvert_exporter": "python",
   "pygments_lexer": "ipython3",
   "version": "3.12.3"
  }
 },
 "nbformat": 4,
 "nbformat_minor": 2
}
