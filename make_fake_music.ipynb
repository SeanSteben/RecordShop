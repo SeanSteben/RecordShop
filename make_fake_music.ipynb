{
 "cells": [
  {
   "cell_type": "code",
   "execution_count": 26,
   "metadata": {},
   "outputs": [],
   "source": [
    "import faker\n",
    "import json\n",
    "import random\n",
    "faker = faker.Faker()"
   ]
  },
  {
   "cell_type": "code",
   "execution_count": 16,
   "metadata": {},
   "outputs": [
    {
     "name": "stdout",
     "output_type": "stream",
     "text": [
      "50\n"
     ]
    }
   ],
   "source": [
    "albumNames = ['Bitten bullet','Parliment of fools','Fluke','Here we go','Grains of sand','Dark matters',\n",
    "'Criss cross','Balls to the wall','Eye for an eye','Code word', 'Grains of sand','Dreams and nightmares','Around the bush','Crazy eyes',\n",
    "'Form over function','Speak of the god','Big bad wolf','Deaths dead','Final breath','Rocket science','Curtain fall',\n",
    "'Speak of the god','Zero experience','Beggars and thieves','Hand in hand','Fight and flight','Rocket surgery','Gods advocate',\n",
    "'Crocodile tears','Doctor in the house', 'X marks the spot','New dimension','Company of two','Flower shower',\n",
    "'The drawing board','For eternity','Army of ants','Chip off the old block','Expert opinion','Speak of the demon',\n",
    "'Apparatus','Tongue and cheeks','Ghost stories','Brain teaser','Devils advocate','Ask and receive','Beads of sweat',\n",
    "'Perfect storm','Curiosity','Childhood memoires']\n",
    "print(len(albumNames))"
   ]
  },
  {
   "cell_type": "code",
   "execution_count": 17,
   "metadata": {},
   "outputs": [
    {
     "name": "stdout",
     "output_type": "stream",
     "text": [
      "20\n"
     ]
    }
   ],
   "source": [
    "bandNames = ['Suave','Vanished Generation','Shallow Accident','Cinder','Realm','Bittersweet',\n",
    "'Bravado','Format of Fear','Monster of Drama','Switch of the Underground',\n",
    "'Cinematic Gossip','Simple Nemesis','Daydream Diary','Dilemma','Alien','Cataclysm','Wraith','Torment of Wit','Mirror of Momentum',\n",
    "'Brotherhood of Blitz']\n",
    "print(len(bandNames))"
   ]
  },
  {
   "cell_type": "code",
   "execution_count": 20,
   "metadata": {},
   "outputs": [],
   "source": [
    "genres = ['Pop', 'Rock', 'Jazz', 'Classical', 'Hip Hop', 'Country', 'Reggae', 'Blues' , 'Folk']"
   ]
  },
  {
   "cell_type": "code",
   "execution_count": null,
   "metadata": {},
   "outputs": [],
   "source": []
  },
  {
   "cell_type": "code",
   "execution_count": 31,
   "metadata": {},
   "outputs": [],
   "source": [
    "random_records = []\n",
    "startingId = 100\n",
    "\n",
    "for i in range(100):\n",
    "\n",
    "    \n",
    "    #img_number = random.randint(1, 75)\n",
    "    random_record = {\n",
    "        'id': startingId + i,\n",
    "        'band_name' : random.choice(bandNames),\n",
    "        'album_name': random.choice(albumNames),\n",
    "        'genre': random.choice(genres),\n",
    "        'release_date' : faker.date(),\n",
    "        'record_label' : faker.company(),\n",
    "        'duration' : f\"{random.randint(30,90)}:{random.randint(0,59):02d}\"\n",
    "        \n",
    "    }\n",
    "    random_records.append(random_record)\n",
    "    \n",
    "#display (random_records)"
   ]
  },
  {
   "cell_type": "code",
   "execution_count": 32,
   "metadata": {},
   "outputs": [],
   "source": [
    "file_name = 'records.json'\n",
    "with open(file_name, 'w') as fout:\n",
    "    fout.write(json.dumps(random_records, indent=2))"
   ]
  },
  {
   "cell_type": "code",
   "execution_count": null,
   "metadata": {},
   "outputs": [],
   "source": []
  }
 ],
 "metadata": {
  "kernelspec": {
   "display_name": "Python 3",
   "language": "python",
   "name": "python3"
  },
  "language_info": {
   "codemirror_mode": {
    "name": "ipython",
    "version": 3
   },
   "file_extension": ".py",
   "mimetype": "text/x-python",
   "name": "python",
   "nbconvert_exporter": "python",
   "pygments_lexer": "ipython3",
   "version": "3.12.3"
  }
 },
 "nbformat": 4,
 "nbformat_minor": 2
}
